{
 "cells": [
  {
   "cell_type": "code",
   "execution_count": 1,
   "id": "12329d38",
   "metadata": {},
   "outputs": [
    {
     "name": "stdout",
     "output_type": "stream",
     "text": [
      "Overwriting hm301.py\n"
     ]
    }
   ],
   "source": [
    "%%file hm301.py\n",
    "from mrjob.job import MRJob\n",
    "\n",
    "class avgreview(MRJob):\n",
    "    def mapper(self, _, line):\n",
    "        row= line.split(',')\n",
    "        words=row[4]\n",
    "        wrdcnt=len(words.split())\n",
    "        if words != 'text':\n",
    "            yield  \"wordcount\",wrdcnt\n",
    "\n",
    "    def reducer(self, key,values):\n",
    "        wrdcntlist = list(values)\n",
    "        yield \"Average words per each review is : \",int(sum(wrdcntlist)/len(wrdcntlist))  \n",
    "        \n",
    "if __name__ == '__main__':\n",
    "    avgreview.run()"
   ]
  },
  {
   "cell_type": "code",
   "execution_count": 2,
   "id": "518ed871",
   "metadata": {},
   "outputs": [
    {
     "name": "stderr",
     "output_type": "stream",
     "text": [
      "  % Total    % Received % Xferd  Average Speed   Time    Time     Time  Current\n",
      "                                 Dload  Upload   Total   Spent    Left  Speed\n",
      "\n",
      "  0     0    0     0    0     0      0      0 --:--:-- --:--:-- --:--:--     0\n",
      "100 7901k  100 7901k    0     0  9926k      0 --:--:-- --:--:-- --:--:-- 9926k\n"
     ]
    }
   ],
   "source": [
    "!curl https://raw.githubusercontent.com/JessieCaroline/Homework/Yelpfile/yelp.csv -o yelp.csv"
   ]
  },
  {
   "cell_type": "code",
   "execution_count": 3,
   "id": "0b422caa",
   "metadata": {},
   "outputs": [
    {
     "name": "stderr",
     "output_type": "stream",
     "text": [
      "No configs specified for inline runner\n"
     ]
    },
    {
     "name": "stdout",
     "output_type": "stream",
     "text": [
      "Average words per each review is :  29\n"
     ]
    }
   ],
   "source": [
    "import hm301\n",
    "\n",
    "mr_job = hm301.avgreview(args=['yelp.csv'])\n",
    "\n",
    "with mr_job.make_runner() as runner:\n",
    "    runner.run()\n",
    "    for key, value in mr_job.parse_output(runner.cat_output()):\n",
    "        print(key, value)"
   ]
  }
 ],
 "metadata": {
  "kernelspec": {
   "display_name": "Python 3",
   "language": "python",
   "name": "python3"
  },
  "language_info": {
   "codemirror_mode": {
    "name": "ipython",
    "version": 3
   },
   "file_extension": ".py",
   "mimetype": "text/x-python",
   "name": "python",
   "nbconvert_exporter": "python",
   "pygments_lexer": "ipython3",
   "version": "3.8.8"
  }
 },
 "nbformat": 4,
 "nbformat_minor": 5
}
